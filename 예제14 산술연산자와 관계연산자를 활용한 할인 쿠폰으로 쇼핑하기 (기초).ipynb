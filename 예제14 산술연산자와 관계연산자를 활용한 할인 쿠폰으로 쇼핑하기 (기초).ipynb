{
 "cells": [
  {
   "cell_type": "code",
   "execution_count": null,
   "metadata": {
    "collapsed": true
   },
   "outputs": [],
   "source": [
    "total_price= int(input('구입 금액을 입력하시오: '))\n",
    "price= total_price\n",
    "if total_price>=100000:\n",
    "    price= total_price*0.95\n",
    "coupon= input('할인 쿠폰을 가지고 계신가요?(y/n): ')\n",
    "if coupon=='y':\n",
    "    price= price - total_price*0.05\n",
    "print('지불 금액은', price, '입니다.')"
   ]
  }
 ],
 "metadata": {
  "kernelspec": {
   "display_name": "Python 3",
   "language": "python",
   "name": "python3"
  },
  "language_info": {
   "codemirror_mode": {
    "name": "ipython",
    "version": 3
   },
   "file_extension": ".py",
   "mimetype": "text/x-python",
   "name": "python",
   "nbconvert_exporter": "python",
   "pygments_lexer": "ipython3",
   "version": "3.5.1"
  }
 },
 "nbformat": 4,
 "nbformat_minor": 0
}
