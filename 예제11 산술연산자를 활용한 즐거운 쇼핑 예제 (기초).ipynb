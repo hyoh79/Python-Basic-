{
 "cells": [
  {
   "cell_type": "code",
   "execution_count": null,
   "metadata": {
    "collapsed": true
   },
   "outputs": [],
   "source": [
    "myMoney= int(input('내가 가진 돈: '))\n",
    "candyPrice= int(input('사탕의 가격: '))\n",
    "maxCandy= myMoney//candyPrice\n",
    "change= myMoney%candyPrice\n",
    "print('내가 가진', myMoney, '원으로 최대한 살 수 있는 사탕의 수는', maxCandy,'개 이고, 결과 나머지 돈은', change,'원이다.')"
   ]
  }
 ],
 "metadata": {
  "kernelspec": {
   "display_name": "Python 3",
   "language": "python",
   "name": "python3"
  },
  "language_info": {
   "codemirror_mode": {
    "name": "ipython",
    "version": 3
   },
   "file_extension": ".py",
   "mimetype": "text/x-python",
   "name": "python",
   "nbconvert_exporter": "python",
   "pygments_lexer": "ipython3",
   "version": "3.5.1"
  }
 },
 "nbformat": 4,
 "nbformat_minor": 0
}
