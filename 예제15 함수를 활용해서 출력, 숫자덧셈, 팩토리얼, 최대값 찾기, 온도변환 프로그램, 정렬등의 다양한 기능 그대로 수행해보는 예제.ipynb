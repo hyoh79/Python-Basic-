{
 "cells": [
  {
   "cell_type": "code",
   "execution_count": 6,
   "metadata": {
    "collapsed": true
   },
   "outputs": [],
   "source": [
    "#문장 출력 함수\n",
    "def say_hello(name, massage):\n",
    "    print('안녕,',name+'아.',massage);"
   ]
  },
  {
   "cell_type": "code",
   "execution_count": 4,
   "metadata": {
    "collapsed": true
   },
   "outputs": [],
   "source": [
    "#숫자 덧셈 함수\n",
    "def get_sum(start,end):\n",
    "    sum=0\n",
    "    for i in range(start, end+1):\n",
    "        sum+=i\n",
    "    return sum"
   ]
  },
  {
   "cell_type": "code",
   "execution_count": 13,
   "metadata": {
    "collapsed": false
   },
   "outputs": [],
   "source": [
    "#팩토리얼(!) 함수\n",
    "def get_fact(start, end):\n",
    "    fact=1.0\n",
    "    for i in range(start, end+1):\n",
    "        fact= fact*i\n",
    "    return fact"
   ]
  },
  {
   "cell_type": "code",
   "execution_count": 17,
   "metadata": {
    "collapsed": true
   },
   "outputs": [],
   "source": [
    "#생일축하 메세지를 출력하는 함수\n",
    "def happyBirthday(name):\n",
    "    for i in range(2):\n",
    "        print('생일축하 합니다!')\n",
    "    print('사랑하는', name+'의 생일축하 합니다!')"
   ]
  },
  {
   "cell_type": "code",
   "execution_count": 18,
   "metadata": {
    "collapsed": true
   },
   "outputs": [],
   "source": [
    "#최대값 출력 함수\n",
    "def get_max(x,y):\n",
    "    if (x>y):\n",
    "        return x\n",
    "    else:\n",
    "        return y"
   ]
  },
  {
   "cell_type": "code",
   "execution_count": null,
   "metadata": {
    "collapsed": true
   },
   "outputs": [],
   "source": [
    "#온도 변환 프로그램\n",
    "def printOptions():\n",
    "    print(\"'c' 섭씨온도에서 화씨온도로 변환\")\n",
    "    print(\"'f' 화씨온도에서 섭씨온도로 변환\")\n",
    "    print(\"'q' 종료\")\n",
    "\n",
    "def CtoF(c_temp):\n",
    "    return 9.0/5.0*c_temp+32\n",
    "\n",
    "def FtoC(f_temp):\n",
    "    return (f_temp-32.0)*5.0/9.0\n",
    "\n",
    "\n",
    "printOptions()\n",
    "\n",
    "choice=input(\"원하시는 메뉴를 선택하세요:\")\n",
    "\n",
    "while choice != \"q\":       #굉장히 많이 쓰는 문장\n",
    "    \n",
    "    if choice == \"c\":\n",
    "        temp=float(input(\"섭씨온도:\"))\n",
    "        print(\"화씨온도:\", CtoF(temp))\n",
    "    elif choice == \"f\":\n",
    "        temp=float(input(\"화씨온도:\"))\n",
    "        print(\"섭씨온도:\", FtoC(temp))\n",
    "    else :\n",
    "        print(\"잘못된 입력입니다.\")\n",
    "    \n",
    "    printOptions()\n",
    "    choice=input(\"원하시는 메뉴를 선택하세요:\")\n",
    "\n",
    "print(\"앱을 종료합니다\")"
   ]
  },
  {
   "cell_type": "code",
   "execution_count": null,
   "metadata": {
    "collapsed": true
   },
   "outputs": [],
   "source": [
    "#의미있는 숫자 입력 및 숫자 정렬 코드\n",
    "def readList():\n",
    "    nlist=[]\n",
    "    flag=True;\n",
    "\n",
    "    while flag:\n",
    "        number=int(input(\"숫자를 입력하시오:\"))\n",
    "        if number<0:\n",
    "            flag=False\n",
    "\n",
    "        elif number>100:\n",
    "            flag=False\n",
    "\n",
    "        else :\n",
    "            nlist.append(number)\n",
    "\n",
    "    return nlist\n",
    "\n",
    "\n",
    "\n",
    "def processList(nlist):\n",
    "    nlist.sort()   #숫자 정렬\n",
    "    return nlist\n",
    "\n",
    "\n",
    "def printList(nlist):\n",
    "    for i in nlist:\n",
    "        print(\"성적=\", i)\n",
    "\n",
    "\n",
    "def main():\n",
    "    nlist=readList()\n",
    "    processList(nlist)\n",
    "    printList(nlist)\n",
    "\n",
    "\n",
    "if __name__==\"__main__\":\n",
    "    main()"
   ]
  }
 ],
 "metadata": {
  "kernelspec": {
   "display_name": "Python 3",
   "language": "python",
   "name": "python3"
  },
  "language_info": {
   "codemirror_mode": {
    "name": "ipython",
    "version": 3
   },
   "file_extension": ".py",
   "mimetype": "text/x-python",
   "name": "python",
   "nbconvert_exporter": "python",
   "pygments_lexer": "ipython3",
   "version": "3.5.1"
  }
 },
 "nbformat": 4,
 "nbformat_minor": 0
}
