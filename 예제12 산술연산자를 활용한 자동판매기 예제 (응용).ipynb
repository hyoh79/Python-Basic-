{
 "cells": [
  {
   "cell_type": "code",
   "execution_count": null,
   "metadata": {
    "collapsed": true
   },
   "outputs": [],
   "source": [
    "##\n",
    "#<자동판매기 시뮬레이션 프로그램>\n",
    "##\n",
    "##\n",
    "#먼저 구매하려는 물건의 값과 개수, 그리고  사용자가 가진 화폐의 종류별 개수를 입력받는다.\n",
    "itemPrice=int(input(\"구매하려는 물건 값을 입력하시오:\"))\n",
    "itemNum=int(input(\"구매하려는 물건의 개수를 입력하시오:\"))\n",
    "note=int(input(\"1000원 지폐 개수:\"))\n",
    "coin500=int(input(\"500원 동전 개수:\"))\n",
    "coin100=int(input(\"100원 동전 개수:\"))\n",
    "\n",
    "#가진 돈과 물건 값을 가지고 거스름돈을 계산한다.\n",
    "change=(note*1000+coin500*500+coin100*100)-itemPrice*itemNum\n",
    "\n",
    "#거스름돈을 구성하게 될 화폐들의 개수를 계산하고 보여준다.\n",
    "#(단, 더 작은 단위의 화폐는 개수가 최대한 적은 쪽으로 생각한다.)\n",
    "#(거스름돈을 큰 화폐 단위부터 순서로 나누어 가면서 변수 change를 업데이트 해준다.)\n",
    "if change>=1000:\n",
    "    numNote=change//1000\n",
    "    change=change%1000\n",
    "    numCoin500=change//500\n",
    "    change=change%500\n",
    "    numCoin100=change//100\n",
    "    change=change%100\n",
    "    numCoin10=change//10\n",
    "    print(\"거스름돈: 1000원=\",numNote,\"개\",\" \",\"500원=\",numCoin500,\"개\",\" \",\n",
    "          \"100원=\",numCoin100,\"개\",\" \",\"10원=\",numCoin10,\"개\")\n",
    "elif change>=500:\n",
    "    numCoin500=change//500\n",
    "    change=change%500\n",
    "    numCoin100=change//100\n",
    "    change=change%100\n",
    "    numCoin10=change//10\n",
    "    print(\"거스름돈: 500원=\",numCoin500,\"개\",\" \",\"100원=\",numCoin100,\"개\",\" \",\"10원=\",numCoin10,\"개\")\n",
    "elif change>=100:\n",
    "    numCoin100=change//100\n",
    "    change=change%100\n",
    "    numCoin10=change//10\n",
    "    print(\"거스름돈: 100원=\",numCoin100,\"개\",\" \",\"10원=\",numCoin10,\"개\")\n",
    "else:\n",
    "    numCoin10=change//10\n",
    "    print(\"거스름돈: 10원=\",numCoin10,\"개\")"
   ]
  }
 ],
 "metadata": {
  "kernelspec": {
   "display_name": "Python 3",
   "language": "python",
   "name": "python3"
  },
  "language_info": {
   "codemirror_mode": {
    "name": "ipython",
    "version": 3
   },
   "file_extension": ".py",
   "mimetype": "text/x-python",
   "name": "python",
   "nbconvert_exporter": "python",
   "pygments_lexer": "ipython3",
   "version": "3.5.1"
  }
 },
 "nbformat": 4,
 "nbformat_minor": 0
}
