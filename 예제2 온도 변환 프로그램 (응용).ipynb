{
 "cells": [
  {
   "cell_type": "code",
   "execution_count": null,
   "metadata": {
    "collapsed": true
   },
   "outputs": [],
   "source": [
    "fT= int(input(\"현재 화씨 온도를 입력해 주세요: \"))\n",
    "cT= (fT-32.0)*5.0/9.0\n",
    "print(\"현재 섭씨 온도는\",round(cT,2),\"℃입니다.\\n(이 온도는 최대 0.01 단위까지 표시됩니다.)\")"
   ]
  }
 ],
 "metadata": {
  "kernelspec": {
   "display_name": "Python 3",
   "language": "python",
   "name": "python3"
  },
  "language_info": {
   "codemirror_mode": {
    "name": "ipython",
    "version": 3
   },
   "file_extension": ".py",
   "mimetype": "text/x-python",
   "name": "python",
   "nbconvert_exporter": "python",
   "pygments_lexer": "ipython3",
   "version": "3.5.1"
  }
 },
 "nbformat": 4,
 "nbformat_minor": 0
}
