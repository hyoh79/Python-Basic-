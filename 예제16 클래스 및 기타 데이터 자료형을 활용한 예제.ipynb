{
 "cells": [
  {
   "cell_type": "code",
   "execution_count": null,
   "metadata": {
    "collapsed": true
   },
   "outputs": [],
   "source": [
    "STUDENTS=5\n",
    "scores= []\n",
    "scoreSum= 0\n",
    "for i in range(STUDENTS):\n",
    "    value= int(input('성적을 입력하시오: '))\n",
    "    scores.append(value)\n",
    "    scoreSum+= value\n",
    "scoreAvg= scoreSum/len(scores)\n",
    "highScoreStudents= 0\n",
    "for i in range(len(scores)):\n",
    "    if scores[i]>=80:\n",
    "        highScoreStudents+= 1\n",
    "print('성적 평균은', scoreAvg, '입니다.')\n",
    "print('80점 이상 성적을 받은 학생은', highScoreStudents, '명입니다.')"
   ]
  }
 ],
 "metadata": {
  "kernelspec": {
   "display_name": "Python 3",
   "language": "python",
   "name": "python3"
  },
  "language_info": {
   "codemirror_mode": {
    "name": "ipython",
    "version": 3
   },
   "file_extension": ".py",
   "mimetype": "text/x-python",
   "name": "python",
   "nbconvert_exporter": "python",
   "pygments_lexer": "ipython3",
   "version": "3.5.1"
  }
 },
 "nbformat": 4,
 "nbformat_minor": 0
}
