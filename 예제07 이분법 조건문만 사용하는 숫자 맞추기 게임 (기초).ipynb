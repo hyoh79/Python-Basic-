{
 "cells": [
  {
   "cell_type": "code",
   "execution_count": null,
   "metadata": {
    "collapsed": true
   },
   "outputs": [],
   "source": [
    "print('숫자게임에 오신 것을 환영합니다.')\n",
    "number= 62\n",
    "s= input('1부터 100사이의 숫자를 추측해보세요: ')\n",
    "guess= int(s)\n",
    "if guess== number:\n",
    "    print('맞았습니다.')\n",
    "else:\n",
    "    print('틀렸습니다.')\n",
    "print('게임이 종료되었습니다.')"
   ]
  }
 ],
 "metadata": {
  "kernelspec": {
   "display_name": "Python 3",
   "language": "python",
   "name": "python3"
  },
  "language_info": {
   "codemirror_mode": {
    "name": "ipython",
    "version": 3
   },
   "file_extension": ".py",
   "mimetype": "text/x-python",
   "name": "python",
   "nbconvert_exporter": "python",
   "pygments_lexer": "ipython3",
   "version": "3.5.1"
  }
 },
 "nbformat": 4,
 "nbformat_minor": 0
}
