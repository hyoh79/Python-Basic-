{
 "cells": [
  {
   "cell_type": "code",
   "execution_count": null,
   "metadata": {
    "collapsed": true
   },
   "outputs": [],
   "source": [
    "from random import randint\n",
    "\n",
    "re = \"true\"\n",
    "\n",
    "while re == \"true\":\n",
    "    a = 1\n",
    "    print(\"숫자 맞추기 Up&Down 게임을 시작합니다. \\n총 5번의 기회입니다.\\n1~100사이의 숫자입니다.\\n\")\n",
    "    computer_num = randint (1,100)\n",
    "    \n",
    "    while a < 6:\n",
    "        user_num = float(input('숫자를 입력하세요. : '))\n",
    "        print(a,'번 시도중입니다.')\n",
    "        if user_num == computer_num:\n",
    "            print(\"#정답입니다!#\\n\",a,\"번만에 맞추셨습니다!\")\n",
    "            break\n",
    "        elif user_num > computer_num:\n",
    "            print(\"Down!\")\n",
    "            a = a+1\n",
    "        elif user_num < computer_num:\n",
    "            print(\"Up!\")\n",
    "            a = a+1\n",
    "            \n",
    "    print(\"\\n게임이 종료되었습니다.\\n\",\"정답은\",computer_num,\"이었습니다.\")\n",
    "    c = input(\"\\n다시하시겠습니까? 예/아니오 : \")\n",
    "    if c == \"예\":\n",
    "        a = 1\n",
    "    elif c == \"아니오\":\n",
    "        re = \"false\"\n",
    "    else:\n",
    "        print(\"다시 입력해주세요.\")\n",
    "        a = 5\n",
    "\n",
    "print(\"게임을 종료합니다.\")"
   ]
  }
 ],
 "metadata": {
  "kernelspec": {
   "display_name": "Python 3",
   "language": "python",
   "name": "python3"
  },
  "language_info": {
   "codemirror_mode": {
    "name": "ipython",
    "version": 3
   },
   "file_extension": ".py",
   "mimetype": "text/x-python",
   "name": "python",
   "nbconvert_exporter": "python",
   "pygments_lexer": "ipython3",
   "version": "3.5.1"
  }
 },
 "nbformat": 4,
 "nbformat_minor": 0
}
