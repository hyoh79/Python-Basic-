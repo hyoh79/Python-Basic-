{
 "cells": [
  {
   "cell_type": "code",
   "execution_count": null,
   "metadata": {
    "collapsed": true
   },
   "outputs": [],
   "source": [
    "#1\n",
    "people= int(input(\"참석자의 수를 입력하세요: \"))\n",
    "chicken=people\n",
    "beer=2*people\n",
    "cake=4*people\n",
    "print('치킨은', chicken, '마리 필요합니다.')\n",
    "print('맥주는', beer, '캔 필요합니다.')\n",
    "print('케익은', cake, '개 필요합니다.')"
   ]
  },
  {
   "cell_type": "code",
   "execution_count": null,
   "metadata": {
    "collapsed": true
   },
   "outputs": [],
   "source": [
    "#2\n",
    "name= input('이름이 무엇인가요?: ')\n",
    "print('만나서 반갑습니다.'+name+'씨!')\n",
    "age= int(input('나이는 어떻게 되시나요?: '))\n",
    "print('그러면',name,'씨는 2019년 현재 기준으로', 2020-age,'년생 이시군요!')"
   ]
  }
 ],
 "metadata": {
  "kernelspec": {
   "display_name": "Python 3",
   "language": "python",
   "name": "python3"
  },
  "language_info": {
   "codemirror_mode": {
    "name": "ipython",
    "version": 3
   },
   "file_extension": ".py",
   "mimetype": "text/x-python",
   "name": "python",
   "nbconvert_exporter": "python",
   "pygments_lexer": "ipython3",
   "version": "3.5.1"
  }
 },
 "nbformat": 4,
 "nbformat_minor": 0
}
